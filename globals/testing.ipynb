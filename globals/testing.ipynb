{
 "cells": [
  {
   "cell_type": "code",
   "execution_count": 14,
   "id": "1fc72831",
   "metadata": {},
   "outputs": [
    {
     "name": "stdout",
     "output_type": "stream",
     "text": [
      "paths  /home/asj53/BOScheduling/results/sp25/(206, 4, 21)_pairwise.csv\n",
      "paths  /home/asj53/BOScheduling/results/sp25/(275, 1, 20)_pairwise.csv\n",
      "paths  /home/asj53/BOScheduling/results/sp25/(251, 2, 23)_pairwise.csv\n",
      "paths  /home/asj53/BOScheduling/results/sp25/(268, 2, 21)_pairwise.csv\n",
      "paths  /home/asj53/BOScheduling/results/sp25/(265, 0, 20)_pairwise.csv\n",
      "paths  /home/asj53/BOScheduling/results/sp25/(259, 6, 20)_pairwise.csv\n",
      "paths  /home/asj53/BOScheduling/results/sp25/(203, 3, 20)_pairwise.csv\n",
      "paths  /home/asj53/BOScheduling/results/sp25/(259, 3, 22)_pairwise.csv\n",
      "paths  /home/asj53/BOScheduling/results/sp25/(286, 4, 23)_pairwise.csv\n",
      "paths  /home/asj53/BOScheduling/results/sp25/(221, 1, 23)_pairwise.csv\n",
      "paths  /home/asj53/BOScheduling/results/sp25/(218, 2, 23)_pairwise.csv\n",
      "paths  /home/asj53/BOScheduling/results/sp25/(273, 2, 20)_pairwise.csv\n",
      "paths  /home/asj53/BOScheduling/results/sp25/(250, 2, 21)_pairwise.csv\n",
      "paths  /home/asj53/BOScheduling/results/sp25/(222, 2, 20)_pairwise.csv\n",
      "⚠ Problematic files:\n",
      "  (203, 3, 20)_pairwise.csv: Unable to parse string \"]\" at position 1\n"
     ]
    }
   ],
   "source": [
    "from pathlib import Path\n",
    "import pandas as pd\n",
    "from config.settings import SAVE_PATH \n",
    "import glob\n",
    "def check_pairwise_files(cache_dir: Path):\n",
    "    \"\"\"\n",
    "    Scan every *_pairwise.csv in `cache_dir`.\n",
    "    Return a list of (file_path, problem_message) for files that fail the\n",
    "    int-conversion test on columns i, j, count.\n",
    "    \"\"\"\n",
    "    bad_files = []\n",
    "    cache_dir = Path(cache_dir)   \n",
    "    for csv_path in cache_dir.glob(\"*_pairwise.csv\"):\n",
    "        print('paths ' , csv_path)\n",
    "        try:\n",
    "            df = pd.read_csv(csv_path)\n",
    "\n",
    "            # make sure the expected columns are there\n",
    "            required = {\"i\", \"j\", \"count\"}\n",
    "            missing  = required.difference(df.columns)\n",
    "            if missing:\n",
    "                raise ValueError(f\"missing columns {missing}\")\n",
    "\n",
    "            # try to coerce to integer (errors='raise' makes pandas throw)\n",
    "            for col in required:\n",
    "                pd.to_numeric(df[col], errors=\"raise\").astype(int)\n",
    "\n",
    "        except Exception as exc:          # anything goes wrong → mark as bad\n",
    "            bad_files.append((csv_path, str(exc)))\n",
    "\n",
    "    return bad_files\n",
    "\n",
    "\n",
    "if __name__ == \"__main__\":\n",
    "    offenders = check_pairwise_files(SAVE_PATH)\n",
    "\n",
    "    if not offenders:\n",
    "        print(\"✓ All *_pairwise.csv files are clean.\")\n",
    "    else:\n",
    "        print(\"⚠ Problematic files:\")\n",
    "        for path, msg in offenders:\n",
    "            print(f\"  {path.name}: {msg}\")\n"
   ]
  },
  {
   "cell_type": "code",
   "execution_count": null,
   "id": "365c610b",
   "metadata": {},
   "outputs": [],
   "source": []
  },
  {
   "cell_type": "code",
   "execution_count": null,
   "id": "c731115b",
   "metadata": {},
   "outputs": [
    {
     "name": "stdout",
     "output_type": "stream",
     "text": [
      "sug _pairwise.csv\n",
      "sug _triple.csv\n",
      "sug _quadruple.csv\n"
     ]
    }
   ],
   "source": [
    "from pathlib import Path\n",
    "import pandas as pd, re\n",
    "\n",
    "def bad_rows(path, expected_cols):\n",
    "    df = pd.read_csv(path, dtype=str)           # keep as strings\n",
    "    mask = df[expected_cols].applymap(          # True if any char not 0-9 or -\n",
    "        lambda x: x is pd.NA or bool(re.search(r\"[^0-9\\-]\", str(x))))\n",
    "    return df[mask.any(axis=1)]\n",
    "\n",
    "base = Path(SAVE_PATH)\n",
    "for suffix, cols in [(\"_pairwise.csv\", ['i','j','count']),\n",
    "                     (\"_triple.csv\",   ['i','j','k','count']),\n",
    "                     (\"_quadruple.csv\",['i','j','k','l','count'])]:\n",
    "    print('sug' , suffix)\n",
    "    for p in base.glob(f\"*{suffix}\"):\n",
    "        bad = bad_rows(p, cols)\n",
    "        print('bad' , bad)\n",
    "        if not bad.empty:\n",
    "            \n",
    "            print(f\"\\n⚠ bad values in {p.name}\")\n",
    "            print(bad.head())\n",
    "            "
   ]
  },
  {
   "cell_type": "code",
   "execution_count": null,
   "id": "7459c5d2",
   "metadata": {},
   "outputs": [],
   "source": []
  }
 ],
 "metadata": {
  "kernelspec": {
   "display_name": "research_env",
   "language": "python",
   "name": "python3"
  },
  "language_info": {
   "codemirror_mode": {
    "name": "ipython",
    "version": 3
   },
   "file_extension": ".py",
   "mimetype": "text/x-python",
   "name": "python",
   "nbconvert_exporter": "python",
   "pygments_lexer": "ipython3",
   "version": "3.9.21"
  }
 },
 "nbformat": 4,
 "nbformat_minor": 5
}
